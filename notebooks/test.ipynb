{
 "cells": [
  {
   "cell_type": "code",
   "execution_count": 315,
   "metadata": {},
   "outputs": [
    {
     "data": {
      "text/html": [
       "        <script type=\"text/javascript\">\n",
       "        window.PlotlyConfig = {MathJaxConfig: 'local'};\n",
       "        if (window.MathJax && window.MathJax.Hub && window.MathJax.Hub.Config) {window.MathJax.Hub.Config({SVG: {font: \"STIX-Web\"}});}\n",
       "        if (typeof require !== 'undefined') {\n",
       "        require.undef(\"plotly\");\n",
       "        requirejs.config({\n",
       "            paths: {\n",
       "                'plotly': ['https://cdn.plot.ly/plotly-2.14.0.min']\n",
       "            }\n",
       "        });\n",
       "        require(['plotly'], function(Plotly) {\n",
       "            window._Plotly = Plotly;\n",
       "        });\n",
       "        }\n",
       "        </script>\n",
       "        "
      ]
     },
     "metadata": {},
     "output_type": "display_data"
    }
   ],
   "source": [
    "from sklearn.model_selection import train_test_split, KFold\n",
    "from sklearn.pipeline import Pipeline\n",
    "from sklearn.neighbors import KNeighborsRegressor\n",
    "from sklearn.preprocessing import PolynomialFeatures\n",
    "from sklearn.linear_model import LinearRegression\n",
    "import numpy as np\n",
    "import pandas as pd\n",
    "import statistics\n",
    "import seaborn as sns\n",
    "from scipy import stats\n",
    "import matplotlib.pyplot as plt\n",
    "import plotly.express as px\n",
    "import plotly.graph_objects as go\n",
    "import json\n",
    "import requests\n",
    "%matplotlib inline\n",
    "\n",
    "from plotly.offline import download_plotlyjs, init_notebook_mode, plot, iplot\n",
    "init_notebook_mode(connected=True)\n",
    "\n",
    "plt.style.use('ggplot')"
   ]
  },
  {
   "cell_type": "code",
   "execution_count": 316,
   "metadata": {},
   "outputs": [],
   "source": [
    "%store -r murder_aggravated_robbery16\n",
    "%store -r murder_aggravated_robbery17\n",
    "%store -r murder_aggravated_robbery18\n",
    "%store -r murder_aggravated_robbery19\n",
    "%store -r murder_aggravated_robbery20"
   ]
  },
  {
   "cell_type": "code",
   "execution_count": 318,
   "metadata": {},
   "outputs": [
    {
     "data": {
      "text/html": [
       "<div>\n",
       "<style scoped>\n",
       "    .dataframe tbody tr th:only-of-type {\n",
       "        vertical-align: middle;\n",
       "    }\n",
       "\n",
       "    .dataframe tbody tr th {\n",
       "        vertical-align: top;\n",
       "    }\n",
       "\n",
       "    .dataframe thead th {\n",
       "        text-align: right;\n",
       "    }\n",
       "</style>\n",
       "<table border=\"1\" class=\"dataframe\">\n",
       "  <thead>\n",
       "    <tr style=\"text-align: right;\">\n",
       "      <th></th>\n",
       "      <th>County</th>\n",
       "      <th>Year</th>\n",
       "      <th>Three Digit County Code</th>\n",
       "      <th>Public Trans</th>\n",
       "      <th>Population</th>\n",
       "      <th>Murder</th>\n",
       "      <th>Aggravated Assault</th>\n",
       "      <th>Robbery</th>\n",
       "      <th>Motor Vehicle Theft</th>\n",
       "      <th>Rape</th>\n",
       "      <th>Burglary</th>\n",
       "      <th>Larceny</th>\n",
       "      <th>Vandalism</th>\n",
       "      <th>Total</th>\n",
       "      <th>Crime Rate Limited</th>\n",
       "    </tr>\n",
       "  </thead>\n",
       "  <tbody>\n",
       "    <tr>\n",
       "      <th>4</th>\n",
       "      <td>Cattaraugus</td>\n",
       "      <td>2016</td>\n",
       "      <td>009</td>\n",
       "      <td>No Public Trans</td>\n",
       "      <td>77711</td>\n",
       "      <td>0.0</td>\n",
       "      <td>148.0</td>\n",
       "      <td>16.0</td>\n",
       "      <td>92.0</td>\n",
       "      <td>112.0</td>\n",
       "      <td>408.0</td>\n",
       "      <td>1748.0</td>\n",
       "      <td>2248.0</td>\n",
       "      <td>256.0</td>\n",
       "      <td>329.425693</td>\n",
       "    </tr>\n",
       "    <tr>\n",
       "      <th>42</th>\n",
       "      <td>Richmond</td>\n",
       "      <td>2020</td>\n",
       "      <td>085</td>\n",
       "      <td>No Public Trans</td>\n",
       "      <td>495747</td>\n",
       "      <td>20.0</td>\n",
       "      <td>998.0</td>\n",
       "      <td>245.0</td>\n",
       "      <td>246.0</td>\n",
       "      <td>84.0</td>\n",
       "      <td>286.0</td>\n",
       "      <td>3163.0</td>\n",
       "      <td>3695.0</td>\n",
       "      <td>1509.0</td>\n",
       "      <td>304.389134</td>\n",
       "    </tr>\n",
       "    <tr>\n",
       "      <th>20</th>\n",
       "      <td>Hamilton</td>\n",
       "      <td>2019</td>\n",
       "      <td>041</td>\n",
       "      <td>No Public Trans</td>\n",
       "      <td>4438</td>\n",
       "      <td>0.0</td>\n",
       "      <td>4.0</td>\n",
       "      <td>0.0</td>\n",
       "      <td>4.0</td>\n",
       "      <td>2.0</td>\n",
       "      <td>12.0</td>\n",
       "      <td>36.0</td>\n",
       "      <td>52.0</td>\n",
       "      <td>8.0</td>\n",
       "      <td>180.261379</td>\n",
       "    </tr>\n",
       "    <tr>\n",
       "      <th>32</th>\n",
       "      <td>Oneida</td>\n",
       "      <td>2016</td>\n",
       "      <td>065</td>\n",
       "      <td>No Public Trans</td>\n",
       "      <td>230372</td>\n",
       "      <td>8.0</td>\n",
       "      <td>710.0</td>\n",
       "      <td>282.0</td>\n",
       "      <td>306.0</td>\n",
       "      <td>320.0</td>\n",
       "      <td>1708.0</td>\n",
       "      <td>7130.0</td>\n",
       "      <td>9144.0</td>\n",
       "      <td>1306.0</td>\n",
       "      <td>566.909173</td>\n",
       "    </tr>\n",
       "    <tr>\n",
       "      <th>50</th>\n",
       "      <td>Steuben</td>\n",
       "      <td>2019</td>\n",
       "      <td>101</td>\n",
       "      <td>No Public Trans</td>\n",
       "      <td>95328</td>\n",
       "      <td>0.0</td>\n",
       "      <td>154.0</td>\n",
       "      <td>16.0</td>\n",
       "      <td>64.0</td>\n",
       "      <td>106.0</td>\n",
       "      <td>304.0</td>\n",
       "      <td>1164.0</td>\n",
       "      <td>1532.0</td>\n",
       "      <td>234.0</td>\n",
       "      <td>245.468278</td>\n",
       "    </tr>\n",
       "  </tbody>\n",
       "</table>\n",
       "</div>"
      ],
      "text/plain": [
       "         County  Year Three Digit County Code     Public Trans  Population  \\\n",
       "4   Cattaraugus  2016                     009  No Public Trans       77711   \n",
       "42     Richmond  2020                     085  No Public Trans      495747   \n",
       "20     Hamilton  2019                     041  No Public Trans        4438   \n",
       "32       Oneida  2016                     065  No Public Trans      230372   \n",
       "50      Steuben  2019                     101  No Public Trans       95328   \n",
       "\n",
       "    Murder  Aggravated Assault  Robbery  Motor Vehicle Theft   Rape  Burglary  \\\n",
       "4      0.0               148.0     16.0                 92.0  112.0     408.0   \n",
       "42    20.0               998.0    245.0                246.0   84.0     286.0   \n",
       "20     0.0                 4.0      0.0                  4.0    2.0      12.0   \n",
       "32     8.0               710.0    282.0                306.0  320.0    1708.0   \n",
       "50     0.0               154.0     16.0                 64.0  106.0     304.0   \n",
       "\n",
       "    Larceny  Vandalism   Total  Crime Rate Limited  \n",
       "4    1748.0     2248.0   256.0          329.425693  \n",
       "42   3163.0     3695.0  1509.0          304.389134  \n",
       "20     36.0       52.0     8.0          180.261379  \n",
       "32   7130.0     9144.0  1306.0          566.909173  \n",
       "50   1164.0     1532.0   234.0          245.468278  "
      ]
     },
     "execution_count": 318,
     "metadata": {},
     "output_type": "execute_result"
    }
   ],
   "source": [
    "# Merged crime activities df that also consisted of county and city df to population df\n",
    "murder_aggravated_robbery16_20 = pd.concat([murder_aggravated_robbery16, murder_aggravated_robbery17, murder_aggravated_robbery18, murder_aggravated_robbery19, murder_aggravated_robbery20 ])\n",
    "murder_aggravated_robbery16_20.sample(5)"
   ]
  },
  {
   "cell_type": "code",
   "execution_count": 319,
   "metadata": {},
   "outputs": [
    {
     "data": {
      "text/html": [
       "<div>\n",
       "<style scoped>\n",
       "    .dataframe tbody tr th:only-of-type {\n",
       "        vertical-align: middle;\n",
       "    }\n",
       "\n",
       "    .dataframe tbody tr th {\n",
       "        vertical-align: top;\n",
       "    }\n",
       "\n",
       "    .dataframe thead th {\n",
       "        text-align: right;\n",
       "    }\n",
       "</style>\n",
       "<table border=\"1\" class=\"dataframe\">\n",
       "  <thead>\n",
       "    <tr style=\"text-align: right;\">\n",
       "      <th></th>\n",
       "      <th>Year</th>\n",
       "      <th>Public Trans</th>\n",
       "      <th>Murder</th>\n",
       "      <th>Aggravated Assault</th>\n",
       "      <th>Robbery</th>\n",
       "      <th>Motor Vehicle Theft</th>\n",
       "      <th>Rape</th>\n",
       "      <th>Burglary</th>\n",
       "      <th>Larceny</th>\n",
       "      <th>Vandalism</th>\n",
       "    </tr>\n",
       "  </thead>\n",
       "  <tbody>\n",
       "    <tr>\n",
       "      <th>0</th>\n",
       "      <td>2016</td>\n",
       "      <td>No Public Trans</td>\n",
       "      <td>253.0</td>\n",
       "      <td>19060.0</td>\n",
       "      <td>7467.0</td>\n",
       "      <td>5846.0</td>\n",
       "      <td>5210.0</td>\n",
       "      <td>24917.0</td>\n",
       "      <td>120228.0</td>\n",
       "      <td>150991.0</td>\n",
       "    </tr>\n",
       "    <tr>\n",
       "      <th>1</th>\n",
       "      <td>2016</td>\n",
       "      <td>Public Trans</td>\n",
       "      <td>674.0</td>\n",
       "      <td>39991.0</td>\n",
       "      <td>21561.0</td>\n",
       "      <td>16473.0</td>\n",
       "      <td>4912.0</td>\n",
       "      <td>42540.0</td>\n",
       "      <td>272468.0</td>\n",
       "      <td>331481.0</td>\n",
       "    </tr>\n",
       "    <tr>\n",
       "      <th>2</th>\n",
       "      <td>2017</td>\n",
       "      <td>No Public Trans</td>\n",
       "      <td>231.0</td>\n",
       "      <td>18349.0</td>\n",
       "      <td>6346.0</td>\n",
       "      <td>5492.0</td>\n",
       "      <td>5345.0</td>\n",
       "      <td>21071.0</td>\n",
       "      <td>113834.0</td>\n",
       "      <td>140397.0</td>\n",
       "    </tr>\n",
       "    <tr>\n",
       "      <th>3</th>\n",
       "      <td>2017</td>\n",
       "      <td>Public Trans</td>\n",
       "      <td>579.0</td>\n",
       "      <td>39286.0</td>\n",
       "      <td>19797.0</td>\n",
       "      <td>15513.0</td>\n",
       "      <td>5052.0</td>\n",
       "      <td>37587.0</td>\n",
       "      <td>266624.0</td>\n",
       "      <td>319724.0</td>\n",
       "    </tr>\n",
       "    <tr>\n",
       "      <th>4</th>\n",
       "      <td>2018</td>\n",
       "      <td>No Public Trans</td>\n",
       "      <td>233.0</td>\n",
       "      <td>17833.0</td>\n",
       "      <td>5706.0</td>\n",
       "      <td>5489.0</td>\n",
       "      <td>5156.0</td>\n",
       "      <td>17805.0</td>\n",
       "      <td>105311.0</td>\n",
       "      <td>128605.0</td>\n",
       "    </tr>\n",
       "    <tr>\n",
       "      <th>5</th>\n",
       "      <td>2018</td>\n",
       "      <td>Public Trans</td>\n",
       "      <td>608.0</td>\n",
       "      <td>38305.0</td>\n",
       "      <td>17720.0</td>\n",
       "      <td>15201.0</td>\n",
       "      <td>5482.0</td>\n",
       "      <td>33456.0</td>\n",
       "      <td>255785.0</td>\n",
       "      <td>304442.0</td>\n",
       "    </tr>\n",
       "    <tr>\n",
       "      <th>6</th>\n",
       "      <td>2019</td>\n",
       "      <td>No Public Trans</td>\n",
       "      <td>200.0</td>\n",
       "      <td>18008.0</td>\n",
       "      <td>5747.0</td>\n",
       "      <td>4986.0</td>\n",
       "      <td>5066.0</td>\n",
       "      <td>15564.0</td>\n",
       "      <td>99025.0</td>\n",
       "      <td>119575.0</td>\n",
       "    </tr>\n",
       "    <tr>\n",
       "      <th>7</th>\n",
       "      <td>2019</td>\n",
       "      <td>Public Trans</td>\n",
       "      <td>621.0</td>\n",
       "      <td>39864.0</td>\n",
       "      <td>17009.0</td>\n",
       "      <td>14914.0</td>\n",
       "      <td>5460.0</td>\n",
       "      <td>29826.0</td>\n",
       "      <td>247582.0</td>\n",
       "      <td>292322.0</td>\n",
       "    </tr>\n",
       "    <tr>\n",
       "      <th>8</th>\n",
       "      <td>2020</td>\n",
       "      <td>No Public Trans</td>\n",
       "      <td>321.0</td>\n",
       "      <td>18672.0</td>\n",
       "      <td>5540.0</td>\n",
       "      <td>7246.0</td>\n",
       "      <td>4527.0</td>\n",
       "      <td>16340.0</td>\n",
       "      <td>97685.0</td>\n",
       "      <td>121271.0</td>\n",
       "    </tr>\n",
       "    <tr>\n",
       "      <th>9</th>\n",
       "      <td>2020</td>\n",
       "      <td>Public Trans</td>\n",
       "      <td>897.0</td>\n",
       "      <td>42618.0</td>\n",
       "      <td>16362.0</td>\n",
       "      <td>22936.0</td>\n",
       "      <td>4520.0</td>\n",
       "      <td>34796.0</td>\n",
       "      <td>237943.0</td>\n",
       "      <td>295675.0</td>\n",
       "    </tr>\n",
       "  </tbody>\n",
       "</table>\n",
       "</div>"
      ],
      "text/plain": [
       "   Year     Public Trans  Murder  Aggravated Assault  Robbery  \\\n",
       "0  2016  No Public Trans   253.0             19060.0   7467.0   \n",
       "1  2016     Public Trans   674.0             39991.0  21561.0   \n",
       "2  2017  No Public Trans   231.0             18349.0   6346.0   \n",
       "3  2017     Public Trans   579.0             39286.0  19797.0   \n",
       "4  2018  No Public Trans   233.0             17833.0   5706.0   \n",
       "5  2018     Public Trans   608.0             38305.0  17720.0   \n",
       "6  2019  No Public Trans   200.0             18008.0   5747.0   \n",
       "7  2019     Public Trans   621.0             39864.0  17009.0   \n",
       "8  2020  No Public Trans   321.0             18672.0   5540.0   \n",
       "9  2020     Public Trans   897.0             42618.0  16362.0   \n",
       "\n",
       "   Motor Vehicle Theft    Rape  Burglary   Larceny  Vandalism  \n",
       "0               5846.0  5210.0   24917.0  120228.0   150991.0  \n",
       "1              16473.0  4912.0   42540.0  272468.0   331481.0  \n",
       "2               5492.0  5345.0   21071.0  113834.0   140397.0  \n",
       "3              15513.0  5052.0   37587.0  266624.0   319724.0  \n",
       "4               5489.0  5156.0   17805.0  105311.0   128605.0  \n",
       "5              15201.0  5482.0   33456.0  255785.0   304442.0  \n",
       "6               4986.0  5066.0   15564.0   99025.0   119575.0  \n",
       "7              14914.0  5460.0   29826.0  247582.0   292322.0  \n",
       "8               7246.0  4527.0   16340.0   97685.0   121271.0  \n",
       "9              22936.0  4520.0   34796.0  237943.0   295675.0  "
      ]
     },
     "execution_count": 319,
     "metadata": {},
     "output_type": "execute_result"
    }
   ],
   "source": [
    "murder_aggravated_robbery16_20_bar = murder_aggravated_robbery16_20.groupby(['Year', 'Public Trans'], as_index=False)[['Murder', 'Aggravated Assault', 'Robbery', 'Motor Vehicle Theft', 'Rape', 'Burglary', 'Larceny', 'Vandalism']].sum()\n",
    "murder_aggravated_robbery16_20_bar"
   ]
  },
  {
   "cell_type": "code",
   "execution_count": 329,
   "metadata": {},
   "outputs": [
    {
     "data": {
      "image/png": "[encoded data removed]",
      "text/plain": [
       "<Figure size 1152x432 with 2 Axes>"
      ]
     },
     "metadata": {},
     "output_type": "display_data"
    }
   ],
   "source": [
    "plt.figure(figsize=(16, 6))\n",
    "x= murder_aggravated_robbery16_20_bar[['Murder', 'Aggravated Assault', 'Robbery', 'Motor Vehicle Theft', 'Rape', 'Burglary', 'Larceny', 'Vandalism']]\n",
    "heatmap = sns.heatmap(x.corr(), vmin=-1, vmax=1, annot=True)\n",
    "heatmap.set_title('Correlation Heatmap', fontdict={'fontsize':12}, pad=12);"
   ]
  },
  {
   "cell_type": "code",
   "execution_count": 327,
   "metadata": {},
   "outputs": [
    {
     "data": {
      "application/vnd.plotly.v1+json": {
       "config": {
        "plotlyServerURL": "https://plot.ly"
       },
       "data": [
        {
         "alignmentgroup": "True",
         "hovertemplate": "variable=Vandalism<br>Public Trans=%{x}<br>value=%{y}<extra></extra>",
         "legendgroup": "Vandalism",
         "marker": {
          "color": "#636efa",
          "pattern": {
           "shape": ""
          }
         },
         "name": "Vandalism",
         "offsetgroup": "Vandalism",
         "orientation": "v",
         "showlegend": true,
         "textposition": "auto",
         "type": "bar",
         "x": [
          "No Public Trans",
          "Public Trans",
          "No Public Trans",
          "Public Trans",
          "No Public Trans",
          "Public Trans",
          "No Public Trans",
          "Public Trans",
          "No Public Trans",
          "Public Trans"
         ],
         "xaxis": "x",
         "y": [
          150991,
          331481,
          140397,
          319724,
          128605,
          304442,
          119575,
          292322,
          121271,
          295675
         ],
         "yaxis": "y"
        },
        {
         "alignmentgroup": "True",
         "hovertemplate": "variable=Larceny<br>Public Trans=%{x}<br>value=%{y}<extra></extra>",
         "legendgroup": "Larceny",
         "marker": {
          "color": "#EF553B",
          "pattern": {
           "shape": ""
          }
         },
         "name": "Larceny",
         "offsetgroup": "Larceny",
         "orientation": "v",
         "showlegend": true,
         "textposition": "auto",
         "type": "bar",
         "x": [
          "No Public Trans",
          "Public Trans",
          "No Public Trans",
          "Public Trans",
          "No Public Trans",
          "Public Trans",
          "No Public Trans",
          "Public Trans",
          "No Public Trans",
          "Public Trans"
         ],
         "xaxis": "x",
         "y": [
          120228,
          272468,
          113834,
          266624,
          105311,
          255785,
          99025,
          247582,
          97685,
          237943
         ],
         "yaxis": "y"
        },
        {
         "alignmentgroup": "True",
         "hovertemplate": "variable=Aggravated Assault<br>Public Trans=%{x}<br>value=%{y}<extra></extra>",
         "legendgroup": "Aggravated Assault",
         "marker": {
          "color": "#00cc96",
          "pattern": {
           "shape": ""
          }
         },
         "name": "Aggravated Assault",
         "offsetgroup": "Aggravated Assault",
         "orientation": "v",
         "showlegend": true,
         "textposition": "auto",
         "type": "bar",
         "x": [
          "No Public Trans",
          "Public Trans",
          "No Public Trans",
          "Public Trans",
          "No Public Trans",
          "Public Trans",
          "No Public Trans",
          "Public Trans",
          "No Public Trans",
          "Public Trans"
         ],
         "xaxis": "x",
         "y": [
          19060,
          39991,
          18349,
          39286,
          17833,
          38305,
          18008,
          39864,
          18672,
          42618
         ],
         "yaxis": "y"
        },
        {
         "alignmentgroup": "True",
         "hovertemplate": "variable=Burglary<br>Public Trans=%{x}<br>value=%{y}<extra></extra>",
         "legendgroup": "Burglary",
         "marker": {
          "color": "#ab63fa",
          "pattern": {
           "shape": ""
          }
         },
         "name": "Burglary",
         "offsetgroup": "Burglary",
         "orientation": "v",
         "showlegend": true,
         "textposition": "auto",
         "type": "bar",
         "x": [
          "No Public Trans",
          "Public Trans",
          "No Public Trans",
          "Public Trans",
          "No Public Trans",
          "Public Trans",
          "No Public Trans",
          "Public Trans",
          "No Public Trans",
          "Public Trans"
         ],
         "xaxis": "x",
         "y": [
          24917,
          42540,
          21071,
          37587,
          17805,
          33456,
          15564,
          29826,
          16340,
          34796
         ],
         "yaxis": "y"
        },
        {
         "alignmentgroup": "True",
         "hovertemplate": "variable=Robbery<br>Public Trans=%{x}<br>value=%{y}<extra></extra>",
         "legendgroup": "Robbery",
         "marker": {
          "color": "#FFA15A",
          "pattern": {
           "shape": ""
          }
         },
         "name": "Robbery",
         "offsetgroup": "Robbery",
         "orientation": "v",
         "showlegend": true,
         "textposition": "auto",
         "type": "bar",
         "x": [
          "No Public Trans",
          "Public Trans",
          "No Public Trans",
          "Public Trans",
          "No Public Trans",
          "Public Trans",
          "No Public Trans",
          "Public Trans",
          "No Public Trans",
          "Public Trans"
         ],
         "xaxis": "x",
         "y": [
          7467,
          21561,
          6346,
          19797,
          5706,
          17720,
          5747,
          17009,
          5540,
          16362
         ],
         "yaxis": "y"
        },
        {
         "alignmentgroup": "True",
         "hovertemplate": "variable=Motor Vehicle Theft<br>Public Trans=%{x}<br>value=%{y}<extra></extra>",
         "legendgroup": "Motor Vehicle Theft",
         "marker": {
          "color": "#19d3f3",
          "pattern": {
           "shape": ""
          }
         },
         "name": "Motor Vehicle Theft",
         "offsetgroup": "Motor Vehicle Theft",
         "orientation": "v",
         "showlegend": true,
         "textposition": "auto",
         "type": "bar",
         "x": [
          "No Public Trans",
          "Public Trans",
          "No Public Trans",
          "Public Trans",
          "No Public Trans",
          "Public Trans",
          "No Public Trans",
          "Public Trans",
          "No Public Trans",
          "Public Trans"
         ],
         "xaxis": "x",
         "y": [
          5846,
          16473,
          5492,
          15513,
          5489,
          15201,
          4986,
          14914,
          7246,
          22936
         ],
         "yaxis": "y"
        },
        {
         "alignmentgroup": "True",
         "hovertemplate": "variable=Rape<br>Public Trans=%{x}<br>value=%{y}<extra></extra>",
         "legendgroup": "Rape",
         "marker": {
          "color": "#FF6692",
          "pattern": {
           "shape": ""
          }
         },
         "name": "Rape",
         "offsetgroup": "Rape",
         "orientation": "v",
         "showlegend": true,
         "textposition": "auto",
         "type": "bar",
         "x": [
          "No Public Trans",
          "Public Trans",
          "No Public Trans",
          "Public Trans",
          "No Public Trans",
          "Public Trans",
          "No Public Trans",
          "Public Trans",
          "No Public Trans",
          "Public Trans"
         ],
         "xaxis": "x",
         "y": [
          5210,
          4912,
          5345,
          5052,
          5156,
          5482,
          5066,
          5460,
          4527,
          4520
         ],
         "yaxis": "y"
        },
        {
         "alignmentgroup": "True",
         "hovertemplate": "variable=Murder<br>Public Trans=%{x}<br>value=%{y}<extra></extra>",
         "legendgroup": "Murder",
         "marker": {
          "color": "#B6E880",
          "pattern": {
           "shape": ""
          }
         },
         "name": "Murder",
         "offsetgroup": "Murder",
         "orientation": "v",
         "showlegend": true,
         "textposition": "auto",
         "type": "bar",
         "x": [
          "No Public Trans",
          "Public Trans",
          "No Public Trans",
          "Public Trans",
          "No Public Trans",
          "Public Trans",
          "No Public Trans",
          "Public Trans",
          "No Public Trans",
          "Public Trans"
         ],
         "xaxis": "x",
         "y": [
          253,
          674,
          231,
          579,
          233,
          608,
          200,
          621,
          321,
          897
         ],
         "yaxis": "y"
        }
       ],
       "layout": {
        "barmode": "group",
        "legend": {
         "title": {
          "text": "Crimes"
         },
         "tracegroupgap": 0
        },
        "template": {
         "data": {
          "bar": [
           {
            "error_x": {
             "color": "#2a3f5f"
            },
            "error_y": {
             "color": "#2a3f5f"
            },
            "marker": {
             "line": {
              "color": "#E5ECF6",
              "width": 0.5
             },
             "pattern": {
              "fillmode": "overlay",
              "size": 10,
              "solidity": 0.2
             }
            },
            "type": "bar"
           }
          ],
          "barpolar": [
           {
            "marker": {
             "line": {
              "color": "#E5ECF6",
              "width": 0.5
             },
             "pattern": {
              "fillmode": "overlay",
              "size": 10,
              "solidity": 0.2
             }
            },
            "type": "barpolar"
           }
          ],
          "carpet": [
           {
            "aaxis": {
             "endlinecolor": "#2a3f5f",
             "gridcolor": "white",
             "linecolor": "white",
             "minorgridcolor": "white",
             "startlinecolor": "#2a3f5f"
            },
            "baxis": {
             "endlinecolor": "#2a3f5f",
             "gridcolor": "white",
             "linecolor": "white",
             "minorgridcolor": "white",
             "startlinecolor": "#2a3f5f"
            },
            "type": "carpet"
           }
          ],
          "choropleth": [
           {
            "colorbar": {
             "outlinewidth": 0,
             "ticks": ""
            },
            "type": "choropleth"
           }
          ],
          "contour": [
           {
            "colorbar": {
             "outlinewidth": 0,
             "ticks": ""
            },
            "colorscale": [
             [
              0,
              "#0d0887"
             ],
             [
              0.1111111111111111,
              "#46039f"
             ],
             [
              0.2222222222222222,
              "#7201a8"
             ],
             [
              0.3333333333333333,
              "#9c179e"
             ],
             [
              0.4444444444444444,
              "#bd3786"
             ],
             [
              0.5555555555555556,
              "#d8576b"
             ],
             [
              0.6666666666666666,
              "#ed7953"
             ],
             [
              0.7777777777777778,
              "#fb9f3a"
             ],
             [
              0.8888888888888888,
              "#fdca26"
             ],
             [
              1,
              "#f0f921"
             ]
            ],
            "type": "contour"
           }
          ],
          "contourcarpet": [
           {
            "colorbar": {
             "outlinewidth": 0,
             "ticks": ""
            },
            "type": "contourcarpet"
           }
          ],
          "heatmap": [
           {
            "colorbar": {
             "outlinewidth": 0,
             "ticks": ""
            },
            "colorscale": [
             [
              0,
              "#0d0887"
             ],
             [
              0.1111111111111111,
              "#46039f"
             ],
             [
              0.2222222222222222,
              "#7201a8"
             ],
             [
              0.3333333333333333,
              "#9c179e"
             ],
             [
              0.4444444444444444,
              "#bd3786"
             ],
             [
              0.5555555555555556,
              "#d8576b"
             ],
             [
              0.6666666666666666,
              "#ed7953"
             ],
             [
              0.7777777777777778,
              "#fb9f3a"
             ],
             [
              0.8888888888888888,
              "#fdca26"
             ],
             [
              1,
              "#f0f921"
             ]
            ],
            "type": "heatmap"
           }
          ],
          "heatmapgl": [
           {
            "colorbar": {
             "outlinewidth": 0,
             "ticks": ""
            },
            "colorscale": [
             [
              0,
              "#0d0887"
             ],
             [
              0.1111111111111111,
              "#46039f"
             ],
             [
              0.2222222222222222,
              "#7201a8"
             ],
             [
              0.3333333333333333,
              "#9c179e"
             ],
             [
              0.4444444444444444,
              "#bd3786"
             ],
             [
              0.5555555555555556,
              "#d8576b"
             ],
             [
              0.6666666666666666,
              "#ed7953"
             ],
             [
              0.7777777777777778,
              "#fb9f3a"
             ],
             [
              0.8888888888888888,
              "#fdca26"
             ],
             [
              1,
              "#f0f921"
             ]
            ],
            "type": "heatmapgl"
           }
          ],
          "histogram": [
           {
            "marker": {
             "pattern": {
              "fillmode": "overlay",
              "size": 10,
              "solidity": 0.2
             }
            },
            "type": "histogram"
           }
          ],
          "histogram2d": [
           {
            "colorbar": {
             "outlinewidth": 0,
             "ticks": ""
            },
            "colorscale": [
             [
              0,
              "#0d0887"
             ],
             [
              0.1111111111111111,
              "#46039f"
             ],
             [
              0.2222222222222222,
              "#7201a8"
             ],
             [
              0.3333333333333333,
              "#9c179e"
             ],
             [
              0.4444444444444444,
              "#bd3786"
             ],
             [
              0.5555555555555556,
              "#d8576b"
             ],
             [
              0.6666666666666666,
              "#ed7953"
             ],
             [
              0.7777777777777778,
              "#fb9f3a"
             ],
             [
              0.8888888888888888,
              "#fdca26"
             ],
             [
              1,
              "#f0f921"
             ]
            ],
            "type": "histogram2d"
           }
          ],
          "histogram2dcontour": [
           {
            "colorbar": {
             "outlinewidth": 0,
             "ticks": ""
            },
            "colorscale": [
             [
              0,
              "#0d0887"
             ],
             [
              0.1111111111111111,
              "#46039f"
             ],
             [
              0.2222222222222222,
              "#7201a8"
             ],
             [
              0.3333333333333333,
              "#9c179e"
             ],
             [
              0.4444444444444444,
              "#bd3786"
             ],
             [
              0.5555555555555556,
              "#d8576b"
             ],
             [
              0.6666666666666666,
              "#ed7953"
             ],
             [
              0.7777777777777778,
              "#fb9f3a"
             ],
             [
              0.8888888888888888,
              "#fdca26"
             ],
             [
              1,
              "#f0f921"
             ]
            ],
            "type": "histogram2dcontour"
           }
          ],
          "mesh3d": [
           {
            "colorbar": {
             "outlinewidth": 0,
             "ticks": ""
            },
            "type": "mesh3d"
           }
          ],
          "parcoords": [
           {
            "line": {
             "colorbar": {
              "outlinewidth": 0,
              "ticks": ""
             }
            },
            "type": "parcoords"
           }
          ],
          "pie": [
           {
            "automargin": true,
            "type": "pie"
           }
          ],
          "scatter": [
           {
            "fillpattern": {
             "fillmode": "overlay",
             "size": 10,
             "solidity": 0.2
            },
            "type": "scatter"
           }
          ],
          "scatter3d": [
           {
            "line": {
             "colorbar": {
              "outlinewidth": 0,
              "ticks": ""
             }
            },
            "marker": {
             "colorbar": {
              "outlinewidth": 0,
              "ticks": ""
             }
            },
            "type": "scatter3d"
           }
          ],
          "scattercarpet": [
           {
            "marker": {
             "colorbar": {
              "outlinewidth": 0,
              "ticks": ""
             }
            },
            "type": "scattercarpet"
           }
          ],
          "scattergeo": [
           {
            "marker": {
             "colorbar": {
              "outlinewidth": 0,
              "ticks": ""
             }
            },
            "type": "scattergeo"
           }
          ],
          "scattergl": [
           {
            "marker": {
             "colorbar": {
              "outlinewidth": 0,
              "ticks": ""
             }
            },
            "type": "scattergl"
           }
          ],
          "scattermapbox": [
           {
            "marker": {
             "colorbar": {
              "outlinewidth": 0,
              "ticks": ""
             }
            },
            "type": "scattermapbox"
           }
          ],
          "scatterpolar": [
           {
            "marker": {
             "colorbar": {
              "outlinewidth": 0,
              "ticks": ""
             }
            },
            "type": "scatterpolar"
           }
          ],
          "scatterpolargl": [
           {
            "marker": {
             "colorbar": {
              "outlinewidth": 0,
              "ticks": ""
             }
            },
            "type": "scatterpolargl"
           }
          ],
          "scatterternary": [
           {
            "marker": {
             "colorbar": {
              "outlinewidth": 0,
              "ticks": ""
             }
            },
            "type": "scatterternary"
           }
          ],
          "surface": [
           {
            "colorbar": {
             "outlinewidth": 0,
             "ticks": ""
            },
            "colorscale": [
             [
              0,
              "#0d0887"
             ],
             [
              0.1111111111111111,
              "#46039f"
             ],
             [
              0.2222222222222222,
              "#7201a8"
             ],
             [
              0.3333333333333333,
              "#9c179e"
             ],
             [
              0.4444444444444444,
              "#bd3786"
             ],
             [
              0.5555555555555556,
              "#d8576b"
             ],
             [
              0.6666666666666666,
              "#ed7953"
             ],
             [
              0.7777777777777778,
              "#fb9f3a"
             ],
             [
              0.8888888888888888,
              "#fdca26"
             ],
             [
              1,
              "#f0f921"
             ]
            ],
            "type": "surface"
           }
          ],
          "table": [
           {
            "cells": {
             "fill": {
              "color": "#EBF0F8"
             },
             "line": {
              "color": "white"
             }
            },
            "header": {
             "fill": {
              "color": "#C8D4E3"
             },
             "line": {
              "color": "white"
             }
            },
            "type": "table"
           }
          ]
         },
         "layout": {
          "annotationdefaults": {
           "arrowcolor": "#2a3f5f",
           "arrowhead": 0,
           "arrowwidth": 1
          },
          "autotypenumbers": "strict",
          "coloraxis": {
           "colorbar": {
            "outlinewidth": 0,
            "ticks": ""
           }
          },
          "colorscale": {
           "diverging": [
            [
             0,
             "#8e0152"
            ],
            [
             0.1,
             "#c51b7d"
            ],
            [
             0.2,
             "#de77ae"
            ],
            [
             0.3,
             "#f1b6da"
            ],
            [
             0.4,
             "#fde0ef"
            ],
            [
             0.5,
             "#f7f7f7"
            ],
            [
             0.6,
             "#e6f5d0"
            ],
            [
             0.7,
             "#b8e186"
            ],
            [
             0.8,
             "#7fbc41"
            ],
            [
             0.9,
             "#4d9221"
            ],
            [
             1,
             "#276419"
            ]
           ],
           "sequential": [
            [
             0,
             "#0d0887"
            ],
            [
             0.1111111111111111,
             "#46039f"
            ],
            [
             0.2222222222222222,
             "#7201a8"
            ],
            [
             0.3333333333333333,
             "#9c179e"
            ],
            [
             0.4444444444444444,
             "#bd3786"
            ],
            [
             0.5555555555555556,
             "#d8576b"
            ],
            [
             0.6666666666666666,
             "#ed7953"
            ],
            [
             0.7777777777777778,
             "#fb9f3a"
            ],
            [
             0.8888888888888888,
             "#fdca26"
            ],
            [
             1,
             "#f0f921"
            ]
           ],
           "sequentialminus": [
            [
             0,
             "#0d0887"
            ],
            [
             0.1111111111111111,
             "#46039f"
            ],
            [
             0.2222222222222222,
             "#7201a8"
            ],
            [
             0.3333333333333333,
             "#9c179e"
            ],
            [
             0.4444444444444444,
             "#bd3786"
            ],
            [
             0.5555555555555556,
             "#d8576b"
            ],
            [
             0.6666666666666666,
             "#ed7953"
            ],
            [
             0.7777777777777778,
             "#fb9f3a"
            ],
            [
             0.8888888888888888,
             "#fdca26"
            ],
            [
             1,
             "#f0f921"
            ]
           ]
          },
          "colorway": [
           "#636efa",
           "#EF553B",
           "#00cc96",
           "#ab63fa",
           "#FFA15A",
           "#19d3f3",
           "#FF6692",
           "#B6E880",
           "#FF97FF",
           "#FECB52"
          ],
          "font": {
           "color": "#2a3f5f"
          },
          "geo": {
           "bgcolor": "white",
           "lakecolor": "white",
           "landcolor": "#E5ECF6",
           "showlakes": true,
           "showland": true,
           "subunitcolor": "white"
          },
          "hoverlabel": {
           "align": "left"
          },
          "hovermode": "closest",
          "mapbox": {
           "style": "light"
          },
          "paper_bgcolor": "white",
          "plot_bgcolor": "#E5ECF6",
          "polar": {
           "angularaxis": {
            "gridcolor": "white",
            "linecolor": "white",
            "ticks": ""
           },
           "bgcolor": "#E5ECF6",
           "radialaxis": {
            "gridcolor": "white",
            "linecolor": "white",
            "ticks": ""
           }
          },
          "scene": {
           "xaxis": {
            "backgroundcolor": "#E5ECF6",
            "gridcolor": "white",
            "gridwidth": 2,
            "linecolor": "white",
            "showbackground": true,
            "ticks": "",
            "zerolinecolor": "white"
           },
           "yaxis": {
            "backgroundcolor": "#E5ECF6",
            "gridcolor": "white",
            "gridwidth": 2,
            "linecolor": "white",
            "showbackground": true,
            "ticks": "",
            "zerolinecolor": "white"
           },
           "zaxis": {
            "backgroundcolor": "#E5ECF6",
            "gridcolor": "white",
            "gridwidth": 2,
            "linecolor": "white",
            "showbackground": true,
            "ticks": "",
            "zerolinecolor": "white"
           }
          },
          "shapedefaults": {
           "line": {
            "color": "#2a3f5f"
           }
          },
          "ternary": {
           "aaxis": {
            "gridcolor": "white",
            "linecolor": "white",
            "ticks": ""
           },
           "baxis": {
            "gridcolor": "white",
            "linecolor": "white",
            "ticks": ""
           },
           "bgcolor": "#E5ECF6",
           "caxis": {
            "gridcolor": "white",
            "linecolor": "white",
            "ticks": ""
           }
          },
          "title": {
           "x": 0.05
          },
          "xaxis": {
           "automargin": true,
           "gridcolor": "white",
           "linecolor": "white",
           "ticks": "",
           "title": {
            "standoff": 15
           },
           "zerolinecolor": "white",
           "zerolinewidth": 2
          },
          "yaxis": {
           "automargin": true,
           "gridcolor": "white",
           "linecolor": "white",
           "ticks": "",
           "title": {
            "standoff": 15
           },
           "zerolinecolor": "white",
           "zerolinewidth": 2
          }
         }
        },
        "title": {
         "text": "Crime Categories 2016-2022"
        },
        "xaxis": {
         "anchor": "y",
         "domain": [
          0,
          1
         ],
         "title": {
          "text": "Public Trans"
         }
        },
        "yaxis": {
         "anchor": "x",
         "domain": [
          0,
          1
         ],
         "title": {
          "text": "Crime Committed"
         }
        }
       }
      },
      "text/html": [
       "<div>                            <div id=\"b43b874b-261d-48d0-9e8a-1cb61f9f5b51\" class=\"plotly-graph-div\" style=\"height:525px; width:100%;\"></div>            <script type=\"text/javascript\">                require([\"plotly\"], function(Plotly) {                    window.PLOTLYENV=window.PLOTLYENV || {};                                    if (document.getElementById(\"b43b874b-261d-48d0-9e8a-1cb61f9f5b51\")) {                    Plotly.newPlot(                        \"b43b874b-261d-48d0-9e8a-1cb61f9f5b51\",                        [{\"alignmentgroup\":\"True\",\"hovertemplate\":\"variable=Vandalism<br>Public Trans=%{x}<br>value=%{y}<extra></extra>\",\"legendgroup\":\"Vandalism\",\"marker\":{\"color\":\"#636efa\",\"pattern\":{\"shape\":\"\"}},\"name\":\"Vandalism\",\"offsetgroup\":\"Vandalism\",\"orientation\":\"v\",\"showlegend\":true,\"textposition\":\"auto\",\"x\":[\"No Public Trans\",\"Public Trans\",\"No Public Trans\",\"Public Trans\",\"No Public Trans\",\"Public Trans\",\"No Public Trans\",\"Public Trans\",\"No Public Trans\",\"Public Trans\"],\"xaxis\":\"x\",\"y\":[150991.0,331481.0,140397.0,319724.0,128605.0,304442.0,119575.0,292322.0,121271.0,295675.0],\"yaxis\":\"y\",\"type\":\"bar\"},{\"alignmentgroup\":\"True\",\"hovertemplate\":\"variable=Larceny<br>Public Trans=%{x}<br>value=%{y}<extra></extra>\",\"legendgroup\":\"Larceny\",\"marker\":{\"color\":\"#EF553B\",\"pattern\":{\"shape\":\"\"}},\"name\":\"Larceny\",\"offsetgroup\":\"Larceny\",\"orientation\":\"v\",\"showlegend\":true,\"textposition\":\"auto\",\"x\":[\"No Public Trans\",\"Public Trans\",\"No Public Trans\",\"Public Trans\",\"No Public Trans\",\"Public Trans\",\"No Public Trans\",\"Public Trans\",\"No Public Trans\",\"Public Trans\"],\"xaxis\":\"x\",\"y\":[120228.0,272468.0,113834.0,266624.0,105311.0,255785.0,99025.0,247582.0,97685.0,237943.0],\"yaxis\":\"y\",\"type\":\"bar\"},{\"alignmentgroup\":\"True\",\"hovertemplate\":\"variable=Aggravated Assault<br>Public Trans=%{x}<br>value=%{y}<extra></extra>\",\"legendgroup\":\"Aggravated Assault\",\"marker\":{\"color\":\"#00cc96\",\"pattern\":{\"shape\":\"\"}},\"name\":\"Aggravated Assault\",\"offsetgroup\":\"Aggravated Assault\",\"orientation\":\"v\",\"showlegend\":true,\"textposition\":\"auto\",\"x\":[\"No Public Trans\",\"Public Trans\",\"No Public Trans\",\"Public Trans\",\"No Public Trans\",\"Public Trans\",\"No Public Trans\",\"Public Trans\",\"No Public Trans\",\"Public Trans\"],\"xaxis\":\"x\",\"y\":[19060.0,39991.0,18349.0,39286.0,17833.0,38305.0,18008.0,39864.0,18672.0,42618.0],\"yaxis\":\"y\",\"type\":\"bar\"},{\"alignmentgroup\":\"True\",\"hovertemplate\":\"variable=Burglary<br>Public Trans=%{x}<br>value=%{y}<extra></extra>\",\"legendgroup\":\"Burglary\",\"marker\":{\"color\":\"#ab63fa\",\"pattern\":{\"shape\":\"\"}},\"name\":\"Burglary\",\"offsetgroup\":\"Burglary\",\"orientation\":\"v\",\"showlegend\":true,\"textposition\":\"auto\",\"x\":[\"No Public Trans\",\"Public Trans\",\"No Public Trans\",\"Public Trans\",\"No Public Trans\",\"Public Trans\",\"No Public Trans\",\"Public Trans\",\"No Public Trans\",\"Public Trans\"],\"xaxis\":\"x\",\"y\":[24917.0,42540.0,21071.0,37587.0,17805.0,33456.0,15564.0,29826.0,16340.0,34796.0],\"yaxis\":\"y\",\"type\":\"bar\"},{\"alignmentgroup\":\"True\",\"hovertemplate\":\"variable=Robbery<br>Public Trans=%{x}<br>value=%{y}<extra></extra>\",\"legendgroup\":\"Robbery\",\"marker\":{\"color\":\"#FFA15A\",\"pattern\":{\"shape\":\"\"}},\"name\":\"Robbery\",\"offsetgroup\":\"Robbery\",\"orientation\":\"v\",\"showlegend\":true,\"textposition\":\"auto\",\"x\":[\"No Public Trans\",\"Public Trans\",\"No Public Trans\",\"Public Trans\",\"No Public Trans\",\"Public Trans\",\"No Public Trans\",\"Public Trans\",\"No Public Trans\",\"Public Trans\"],\"xaxis\":\"x\",\"y\":[7467.0,21561.0,6346.0,19797.0,5706.0,17720.0,5747.0,17009.0,5540.0,16362.0],\"yaxis\":\"y\",\"type\":\"bar\"},{\"alignmentgroup\":\"True\",\"hovertemplate\":\"variable=Motor Vehicle Theft<br>Public Trans=%{x}<br>value=%{y}<extra></extra>\",\"legendgroup\":\"Motor Vehicle Theft\",\"marker\":{\"color\":\"#19d3f3\",\"pattern\":{\"shape\":\"\"}},\"name\":\"Motor Vehicle Theft\",\"offsetgroup\":\"Motor Vehicle Theft\",\"orientation\":\"v\",\"showlegend\":true,\"textposition\":\"auto\",\"x\":[\"No Public Trans\",\"Public Trans\",\"No Public Trans\",\"Public Trans\",\"No Public Trans\",\"Public Trans\",\"No Public Trans\",\"Public Trans\",\"No Public Trans\",\"Public Trans\"],\"xaxis\":\"x\",\"y\":[5846.0,16473.0,5492.0,15513.0,5489.0,15201.0,4986.0,14914.0,7246.0,22936.0],\"yaxis\":\"y\",\"type\":\"bar\"},{\"alignmentgroup\":\"True\",\"hovertemplate\":\"variable=Rape<br>Public Trans=%{x}<br>value=%{y}<extra></extra>\",\"legendgroup\":\"Rape\",\"marker\":{\"color\":\"#FF6692\",\"pattern\":{\"shape\":\"\"}},\"name\":\"Rape\",\"offsetgroup\":\"Rape\",\"orientation\":\"v\",\"showlegend\":true,\"textposition\":\"auto\",\"x\":[\"No Public Trans\",\"Public Trans\",\"No Public Trans\",\"Public Trans\",\"No Public Trans\",\"Public Trans\",\"No Public Trans\",\"Public Trans\",\"No Public Trans\",\"Public Trans\"],\"xaxis\":\"x\",\"y\":[5210.0,4912.0,5345.0,5052.0,5156.0,5482.0,5066.0,5460.0,4527.0,4520.0],\"yaxis\":\"y\",\"type\":\"bar\"},{\"alignmentgroup\":\"True\",\"hovertemplate\":\"variable=Murder<br>Public Trans=%{x}<br>value=%{y}<extra></extra>\",\"legendgroup\":\"Murder\",\"marker\":{\"color\":\"#B6E880\",\"pattern\":{\"shape\":\"\"}},\"name\":\"Murder\",\"offsetgroup\":\"Murder\",\"orientation\":\"v\",\"showlegend\":true,\"textposition\":\"auto\",\"x\":[\"No Public Trans\",\"Public Trans\",\"No Public Trans\",\"Public Trans\",\"No Public Trans\",\"Public Trans\",\"No Public Trans\",\"Public Trans\",\"No Public Trans\",\"Public Trans\"],\"xaxis\":\"x\",\"y\":[253.0,674.0,231.0,579.0,233.0,608.0,200.0,621.0,321.0,897.0],\"yaxis\":\"y\",\"type\":\"bar\"}],                        {\"template\":{\"data\":{\"histogram2dcontour\":[{\"type\":\"histogram2dcontour\",\"colorbar\":{\"outlinewidth\":0,\"ticks\":\"\"},\"colorscale\":[[0.0,\"#0d0887\"],[0.1111111111111111,\"#46039f\"],[0.2222222222222222,\"#7201a8\"],[0.3333333333333333,\"#9c179e\"],[0.4444444444444444,\"#bd3786\"],[0.5555555555555556,\"#d8576b\"],[0.6666666666666666,\"#ed7953\"],[0.7777777777777778,\"#fb9f3a\"],[0.8888888888888888,\"#fdca26\"],[1.0,\"#f0f921\"]]}],\"choropleth\":[{\"type\":\"choropleth\",\"colorbar\":{\"outlinewidth\":0,\"ticks\":\"\"}}],\"histogram2d\":[{\"type\":\"histogram2d\",\"colorbar\":{\"outlinewidth\":0,\"ticks\":\"\"},\"colorscale\":[[0.0,\"#0d0887\"],[0.1111111111111111,\"#46039f\"],[0.2222222222222222,\"#7201a8\"],[0.3333333333333333,\"#9c179e\"],[0.4444444444444444,\"#bd3786\"],[0.5555555555555556,\"#d8576b\"],[0.6666666666666666,\"#ed7953\"],[0.7777777777777778,\"#fb9f3a\"],[0.8888888888888888,\"#fdca26\"],[1.0,\"#f0f921\"]]}],\"heatmap\":[{\"type\":\"heatmap\",\"colorbar\":{\"outlinewidth\":0,\"ticks\":\"\"},\"colorscale\":[[0.0,\"#0d0887\"],[0.1111111111111111,\"#46039f\"],[0.2222222222222222,\"#7201a8\"],[0.3333333333333333,\"#9c179e\"],[0.4444444444444444,\"#bd3786\"],[0.5555555555555556,\"#d8576b\"],[0.6666666666666666,\"#ed7953\"],[0.7777777777777778,\"#fb9f3a\"],[0.8888888888888888,\"#fdca26\"],[1.0,\"#f0f921\"]]}],\"heatmapgl\":[{\"type\":\"heatmapgl\",\"colorbar\":{\"outlinewidth\":0,\"ticks\":\"\"},\"colorscale\":[[0.0,\"#0d0887\"],[0.1111111111111111,\"#46039f\"],[0.2222222222222222,\"#7201a8\"],[0.3333333333333333,\"#9c179e\"],[0.4444444444444444,\"#bd3786\"],[0.5555555555555556,\"#d8576b\"],[0.6666666666666666,\"#ed7953\"],[0.7777777777777778,\"#fb9f3a\"],[0.8888888888888888,\"#fdca26\"],[1.0,\"#f0f921\"]]}],\"contourcarpet\":[{\"type\":\"contourcarpet\",\"colorbar\":{\"outlinewidth\":0,\"ticks\":\"\"}}],\"contour\":[{\"type\":\"contour\",\"colorbar\":{\"outlinewidth\":0,\"ticks\":\"\"},\"colorscale\":[[0.0,\"#0d0887\"],[0.1111111111111111,\"#46039f\"],[0.2222222222222222,\"#7201a8\"],[0.3333333333333333,\"#9c179e\"],[0.4444444444444444,\"#bd3786\"],[0.5555555555555556,\"#d8576b\"],[0.6666666666666666,\"#ed7953\"],[0.7777777777777778,\"#fb9f3a\"],[0.8888888888888888,\"#fdca26\"],[1.0,\"#f0f921\"]]}],\"surface\":[{\"type\":\"surface\",\"colorbar\":{\"outlinewidth\":0,\"ticks\":\"\"},\"colorscale\":[[0.0,\"#0d0887\"],[0.1111111111111111,\"#46039f\"],[0.2222222222222222,\"#7201a8\"],[0.3333333333333333,\"#9c179e\"],[0.4444444444444444,\"#bd3786\"],[0.5555555555555556,\"#d8576b\"],[0.6666666666666666,\"#ed7953\"],[0.7777777777777778,\"#fb9f3a\"],[0.8888888888888888,\"#fdca26\"],[1.0,\"#f0f921\"]]}],\"mesh3d\":[{\"type\":\"mesh3d\",\"colorbar\":{\"outlinewidth\":0,\"ticks\":\"\"}}],\"scatter\":[{\"fillpattern\":{\"fillmode\":\"overlay\",\"size\":10,\"solidity\":0.2},\"type\":\"scatter\"}],\"parcoords\":[{\"type\":\"parcoords\",\"line\":{\"colorbar\":{\"outlinewidth\":0,\"ticks\":\"\"}}}],\"scatterpolargl\":[{\"type\":\"scatterpolargl\",\"marker\":{\"colorbar\":{\"outlinewidth\":0,\"ticks\":\"\"}}}],\"bar\":[{\"error_x\":{\"color\":\"#2a3f5f\"},\"error_y\":{\"color\":\"#2a3f5f\"},\"marker\":{\"line\":{\"color\":\"#E5ECF6\",\"width\":0.5},\"pattern\":{\"fillmode\":\"overlay\",\"size\":10,\"solidity\":0.2}},\"type\":\"bar\"}],\"scattergeo\":[{\"type\":\"scattergeo\",\"marker\":{\"colorbar\":{\"outlinewidth\":0,\"ticks\":\"\"}}}],\"scatterpolar\":[{\"type\":\"scatterpolar\",\"marker\":{\"colorbar\":{\"outlinewidth\":0,\"ticks\":\"\"}}}],\"histogram\":[{\"marker\":{\"pattern\":{\"fillmode\":\"overlay\",\"size\":10,\"solidity\":0.2}},\"type\":\"histogram\"}],\"scattergl\":[{\"type\":\"scattergl\",\"marker\":{\"colorbar\":{\"outlinewidth\":0,\"ticks\":\"\"}}}],\"scatter3d\":[{\"type\":\"scatter3d\",\"line\":{\"colorbar\":{\"outlinewidth\":0,\"ticks\":\"\"}},\"marker\":{\"colorbar\":{\"outlinewidth\":0,\"ticks\":\"\"}}}],\"scattermapbox\":[{\"type\":\"scattermapbox\",\"marker\":{\"colorbar\":{\"outlinewidth\":0,\"ticks\":\"\"}}}],\"scatterternary\":[{\"type\":\"scatterternary\",\"marker\":{\"colorbar\":{\"outlinewidth\":0,\"ticks\":\"\"}}}],\"scattercarpet\":[{\"type\":\"scattercarpet\",\"marker\":{\"colorbar\":{\"outlinewidth\":0,\"ticks\":\"\"}}}],\"carpet\":[{\"aaxis\":{\"endlinecolor\":\"#2a3f5f\",\"gridcolor\":\"white\",\"linecolor\":\"white\",\"minorgridcolor\":\"white\",\"startlinecolor\":\"#2a3f5f\"},\"baxis\":{\"endlinecolor\":\"#2a3f5f\",\"gridcolor\":\"white\",\"linecolor\":\"white\",\"minorgridcolor\":\"white\",\"startlinecolor\":\"#2a3f5f\"},\"type\":\"carpet\"}],\"table\":[{\"cells\":{\"fill\":{\"color\":\"#EBF0F8\"},\"line\":{\"color\":\"white\"}},\"header\":{\"fill\":{\"color\":\"#C8D4E3\"},\"line\":{\"color\":\"white\"}},\"type\":\"table\"}],\"barpolar\":[{\"marker\":{\"line\":{\"color\":\"#E5ECF6\",\"width\":0.5},\"pattern\":{\"fillmode\":\"overlay\",\"size\":10,\"solidity\":0.2}},\"type\":\"barpolar\"}],\"pie\":[{\"automargin\":true,\"type\":\"pie\"}]},\"layout\":{\"autotypenumbers\":\"strict\",\"colorway\":[\"#636efa\",\"#EF553B\",\"#00cc96\",\"#ab63fa\",\"#FFA15A\",\"#19d3f3\",\"#FF6692\",\"#B6E880\",\"#FF97FF\",\"#FECB52\"],\"font\":{\"color\":\"#2a3f5f\"},\"hovermode\":\"closest\",\"hoverlabel\":{\"align\":\"left\"},\"paper_bgcolor\":\"white\",\"plot_bgcolor\":\"#E5ECF6\",\"polar\":{\"bgcolor\":\"#E5ECF6\",\"angularaxis\":{\"gridcolor\":\"white\",\"linecolor\":\"white\",\"ticks\":\"\"},\"radialaxis\":{\"gridcolor\":\"white\",\"linecolor\":\"white\",\"ticks\":\"\"}},\"ternary\":{\"bgcolor\":\"#E5ECF6\",\"aaxis\":{\"gridcolor\":\"white\",\"linecolor\":\"white\",\"ticks\":\"\"},\"baxis\":{\"gridcolor\":\"white\",\"linecolor\":\"white\",\"ticks\":\"\"},\"caxis\":{\"gridcolor\":\"white\",\"linecolor\":\"white\",\"ticks\":\"\"}},\"coloraxis\":{\"colorbar\":{\"outlinewidth\":0,\"ticks\":\"\"}},\"colorscale\":{\"sequential\":[[0.0,\"#0d0887\"],[0.1111111111111111,\"#46039f\"],[0.2222222222222222,\"#7201a8\"],[0.3333333333333333,\"#9c179e\"],[0.4444444444444444,\"#bd3786\"],[0.5555555555555556,\"#d8576b\"],[0.6666666666666666,\"#ed7953\"],[0.7777777777777778,\"#fb9f3a\"],[0.8888888888888888,\"#fdca26\"],[1.0,\"#f0f921\"]],\"sequentialminus\":[[0.0,\"#0d0887\"],[0.1111111111111111,\"#46039f\"],[0.2222222222222222,\"#7201a8\"],[0.3333333333333333,\"#9c179e\"],[0.4444444444444444,\"#bd3786\"],[0.5555555555555556,\"#d8576b\"],[0.6666666666666666,\"#ed7953\"],[0.7777777777777778,\"#fb9f3a\"],[0.8888888888888888,\"#fdca26\"],[1.0,\"#f0f921\"]],\"diverging\":[[0,\"#8e0152\"],[0.1,\"#c51b7d\"],[0.2,\"#de77ae\"],[0.3,\"#f1b6da\"],[0.4,\"#fde0ef\"],[0.5,\"#f7f7f7\"],[0.6,\"#e6f5d0\"],[0.7,\"#b8e186\"],[0.8,\"#7fbc41\"],[0.9,\"#4d9221\"],[1,\"#276419\"]]},\"xaxis\":{\"gridcolor\":\"white\",\"linecolor\":\"white\",\"ticks\":\"\",\"title\":{\"standoff\":15},\"zerolinecolor\":\"white\",\"automargin\":true,\"zerolinewidth\":2},\"yaxis\":{\"gridcolor\":\"white\",\"linecolor\":\"white\",\"ticks\":\"\",\"title\":{\"standoff\":15},\"zerolinecolor\":\"white\",\"automargin\":true,\"zerolinewidth\":2},\"scene\":{\"xaxis\":{\"backgroundcolor\":\"#E5ECF6\",\"gridcolor\":\"white\",\"linecolor\":\"white\",\"showbackground\":true,\"ticks\":\"\",\"zerolinecolor\":\"white\",\"gridwidth\":2},\"yaxis\":{\"backgroundcolor\":\"#E5ECF6\",\"gridcolor\":\"white\",\"linecolor\":\"white\",\"showbackground\":true,\"ticks\":\"\",\"zerolinecolor\":\"white\",\"gridwidth\":2},\"zaxis\":{\"backgroundcolor\":\"#E5ECF6\",\"gridcolor\":\"white\",\"linecolor\":\"white\",\"showbackground\":true,\"ticks\":\"\",\"zerolinecolor\":\"white\",\"gridwidth\":2}},\"shapedefaults\":{\"line\":{\"color\":\"#2a3f5f\"}},\"annotationdefaults\":{\"arrowcolor\":\"#2a3f5f\",\"arrowhead\":0,\"arrowwidth\":1},\"geo\":{\"bgcolor\":\"white\",\"landcolor\":\"#E5ECF6\",\"subunitcolor\":\"white\",\"showland\":true,\"showlakes\":true,\"lakecolor\":\"white\"},\"title\":{\"x\":0.05},\"mapbox\":{\"style\":\"light\"}}},\"xaxis\":{\"anchor\":\"y\",\"domain\":[0.0,1.0],\"title\":{\"text\":\"Public Trans\"}},\"yaxis\":{\"anchor\":\"x\",\"domain\":[0.0,1.0],\"title\":{\"text\":\"Crime Committed\"}},\"legend\":{\"title\":{\"text\":\"Crimes\"},\"tracegroupgap\":0},\"title\":{\"text\":\"Crime Categories 2016-2022\"},\"barmode\":\"group\"},                        {\"responsive\": true}                    ).then(function(){\n",
       "                            \n",
       "var gd = document.getElementById('b43b874b-261d-48d0-9e8a-1cb61f9f5b51');\n",
       "var x = new MutationObserver(function (mutations, observer) {{\n",
       "        var display = window.getComputedStyle(gd).display;\n",
       "        if (!display || display === 'none') {{\n",
       "            console.log([gd, 'removed!']);\n",
       "            Plotly.purge(gd);\n",
       "            observer.disconnect();\n",
       "        }}\n",
       "}});\n",
       "\n",
       "// Listen for the removal of the full notebook cells\n",
       "var notebookContainer = gd.closest('#notebook-container');\n",
       "if (notebookContainer) {{\n",
       "    x.observe(notebookContainer, {childList: true});\n",
       "}}\n",
       "\n",
       "// Listen for the clearing of the current output cell\n",
       "var outputEl = gd.closest('.output');\n",
       "if (outputEl) {{\n",
       "    x.observe(outputEl, {childList: true});\n",
       "}}\n",
       "\n",
       "                        })                };                });            </script>        </div>"
      ]
     },
     "metadata": {},
     "output_type": "display_data"
    }
   ],
   "source": [
    "# x= murder_aggravated_robbery16_20['Year']\n",
    "# y= murder_aggravated_robbery16_20\n",
    "# y1= murder_aggravated_robbery16_20['Aggravated Assault']\n",
    "pd.options.plotting.backend = 'plotly'\n",
    "\n",
    "fig = murder_aggravated_robbery16_20_bar.plot.bar(x='Public Trans', y=['Vandalism', 'Larceny', 'Aggravated Assault', 'Burglary', 'Robbery', 'Motor Vehicle Theft', 'Rape', 'Murder'], barmode='group', title='Crime Categories 2016-2022')\n",
    "fig.update_yaxes(title='Crime Committed')\n",
    "fig.update_layout(legend_title='Crimes')\n",
    "fig.show()"
   ]
  },
  {
   "cell_type": "code",
   "execution_count": 328,
   "metadata": {},
   "outputs": [],
   "source": [
    "murder_aggravated_robbery16_20_bar_train, murder_aggravated_robbery16_20_bar_test = train_test_split(murder_aggravated_robbery16_20_bar, test_size=.20)"
   ]
  },
  {
   "cell_type": "code",
   "execution_count": null,
   "metadata": {},
   "outputs": [],
   "source": []
  }
 ],
 "metadata": {
  "kernelspec": {
   "display_name": "Python 3.9.12 ('base')",
   "language": "python",
   "name": "python3"
  },
  "language_info": {
   "codemirror_mode": {
    "name": "ipython",
    "version": 3
   },
   "file_extension": ".py",
   "mimetype": "text/x-python",
   "name": "python",
   "nbconvert_exporter": "python",
   "pygments_lexer": "ipython3",
   "version": "3.9.12"
  },
  "orig_nbformat": 4,
  "vscode": {
   "interpreter": {
    "hash": "0a0b87b4e473b0fb0acc8b521d1c658df87a8dbcdbfd857070f00979dee8f91c"
   }
  }
 },
 "nbformat": 4,
 "nbformat_minor": 2
}
